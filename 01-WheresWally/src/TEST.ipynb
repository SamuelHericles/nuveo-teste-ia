{
 "cells": [
  {
   "cell_type": "code",
   "execution_count": 3,
   "id": "035bb36c",
   "metadata": {
    "colab": {
     "base_uri": "https://localhost:8080/"
    },
    "collapsed": false,
    "deletable": true,
    "editable": true,
    "executionInfo": {
     "elapsed": 357,
     "status": "ok",
     "timestamp": 1625332286149,
     "user": {
      "displayName": "SAMUEL HERICLES SOUZA SILVEIRA UFC",
      "photoUrl": "",
      "userId": "12708602358479385648"
     },
     "user_tz": 180
    },
    "id": "DS5_UwGGlB0D",
    "outputId": "08faad7f-ef7f-4ade-f3f3-c484c36b057e"
   },
   "outputs": [
    {
     "name": "stdout",
     "output_type": "stream",
     "text": [
      "Drive already mounted at /content/drive; to attempt to forcibly remount, call drive.mount(\"/content/drive\", force_remount=True).\n"
     ]
    }
   ],
   "source": [
    "from google.colab import drive\n",
    "drive.mount('/content/drive')"
   ]
  },
  {
   "cell_type": "code",
   "execution_count": 4,
   "id": "fff6bfa5",
   "metadata": {
    "collapsed": true,
    "deletable": true,
    "editable": true,
    "executionInfo": {
     "elapsed": 9,
     "status": "ok",
     "timestamp": 1625332286640,
     "user": {
      "displayName": "SAMUEL HERICLES SOUZA SILVEIRA UFC",
      "photoUrl": "",
      "userId": "12708602358479385648"
     },
     "user_tz": 180
    },
    "id": "b667ab88"
   },
   "outputs": [],
   "source": [
    "def centeroidnp(arr):\n",
    "    length = arr.shape[0]\n",
    "    sum_x = np.sum(arr[:, 0])\n",
    "    sum_y = np.sum(arr[:, 1])\n",
    "    return int(sum_x/length), int(sum_y/length)\n",
    "\n",
    "def show_image_plt(image, json_file):\n",
    "    point_polygon = np.array(json_file['shapes'][0]['points'], np.int32)\n",
    "    x,y = centeroidnp(point_polygon)\n",
    "    hsize = json_file['imageHeight']\n",
    "    wsize = json_file['imageWidth']\n",
    "    filename_img = json_file['imagePath']\n",
    "        \n",
    "    new_image  = cv2.polylines(image, [point_polygon], True ,(0, 0, 255), 3)\n",
    "    new_image2 = cv2.circle(new_image, (x, y), 5, (0, 0, 255), 10)\n",
    "    img_rgb = cv2.cvtColor(new_image2, cv2.COLOR_BGR2RGB)    \n",
    "    \n",
    "    plt.title(f'File: {filename_img} \\n Centroid: {x,y} \\n size {hsize,wsize}')\n",
    "    plt.imshow(img_rgb)"
   ]
  },
  {
   "cell_type": "code",
   "execution_count": 1,
   "id": "1513a933",
   "metadata": {
    "collapsed": true,
    "deletable": true,
    "editable": true,
    "executionInfo": {
     "elapsed": 12354,
     "status": "ok",
     "timestamp": 1625332298987,
     "user": {
      "displayName": "SAMUEL HERICLES SOUZA SILVEIRA UFC",
      "photoUrl": "",
      "userId": "12708602358479385648"
     },
     "user_tz": 180
    },
    "id": "54dc286f"
   },
   "outputs": [],
   "source": [
    "import os\n",
    "import cv2\n",
    "import json\n",
    "\n",
    "import numpy as np\n",
    "import pandas as pd\n",
    "from PIL import Image\n",
    "import tensorflow as tf\n",
    "import matplotlib.pyplot as plt\n",
    "\n",
    "\n",
    "import os\n",
    "import numpy as np\n",
    "import torch\n",
    "from PIL import Image\n",
    "import torchvision\n",
    "from torch.autograd import Variable\n",
    "\n",
    "from torchvision.models.detection.faster_rcnn import FastRCNNPredictor\n",
    "      "
   ]
  },
  {
   "cell_type": "code",
   "execution_count": 2,
   "id": "07ae31a2",
   "metadata": {
    "collapsed": true,
    "deletable": true,
    "editable": true,
    "executionInfo": {
     "elapsed": 461,
     "status": "ok",
     "timestamp": 1625335317670,
     "user": {
      "displayName": "SAMUEL HERICLES SOUZA SILVEIRA UFC",
      "photoUrl": "",
      "userId": "12708602358479385648"
     },
     "user_tz": 180
    },
    "id": "3a4a735e"
   },
   "outputs": [],
   "source": [
    "class PennFudanDataset():\n",
    "    def __init__(self):\n",
    "\n",
    "        # load all image files, sorting them to\n",
    "        # ensure that they are aligned\n",
    "        self.imgs = list(sorted(os.listdir('../data/TrainingSet/images')))\n",
    "        self.centroids = list(sorted(os.listdir('../data/TrainingSet/json')))\n",
    "\n",
    "    def __getitem__(self, idx):\n",
    "        \n",
    "        # load images and masks\n",
    "        img_path = os.path.join('../data/TrainingSet', \"images\", self.imgs[idx])\n",
    "        img = cv2.imread(f'{img_path}', cv2.IMREAD_COLOR)\n",
    "        img = cv2.cvtColor(img, cv2.COLOR_BGR2RGB).astype(np.float32)\n",
    "\n",
    "        img_shape = img.shape\n",
    "        img = torch.tensor(img)\n",
    "        img = torch.reshape(img,(img_shape[2],img_shape[0],img_shape[1]))\n",
    "\n",
    "        centroids_path = os.path.join('../data/TrainingSet', \"json\", self.centroids[idx])        \n",
    "        json_uploaded = open(f'{centroids_path}','r')\n",
    "\n",
    "        json_file = json.loads(json_uploaded.read()) \n",
    "        centroid = self.centroid(np.array(json_file['shapes'][0]['points'],np.int32))\n",
    "\n",
    "        boxes = [centroid[0], centroid[1], \n",
    "                 json_file['imageWidth'], json_file['imageHeight']]\n",
    "\n",
    "        boxes = torch.tensor(boxes)\n",
    "        boxes = torch.reshape(boxes, (1, 4))\n",
    "\n",
    "        area = (boxes[:, 3] - boxes[:, 1]) * (boxes[:, 2] - boxes[:, 0])\n",
    "        area = torch.as_tensor(area, dtype=torch.float32)\n",
    "\n",
    "        # there is only one class\n",
    "        labels = torch.ones((1,), dtype=torch.int64)\n",
    "        \n",
    "        # suppose all instances are not crowd\n",
    "        iscrowd = torch.zeros((1,), dtype=torch.int64)\n",
    "        \n",
    "        target = {}\n",
    "        target[\"boxes\"] = boxes\n",
    "        target[\"labels\"] = labels\n",
    "        target['area'] = area\n",
    "        target['image_id'] = torch.tensor([idx])\n",
    "        target['iscrowd'] = iscrowd\n",
    "\n",
    "        return img, target\n",
    "\n",
    "    def centroid(self, arr):\n",
    "        length = arr.shape[0]\n",
    "        sum_x = np.sum(arr[:, 0])\n",
    "        sum_y = np.sum(arr[:, 1])\n",
    "        return int(sum_x/length), int(sum_y/length)    \n",
    "    \n",
    "    def __len__(self) -> int:\n",
    "        return len(self.imgs)"
   ]
  },
  {
   "cell_type": "code",
   "execution_count": 3,
   "id": "86302eba",
   "metadata": {
    "colab": {
     "base_uri": "https://localhost:8080/"
    },
    "collapsed": false,
    "deletable": true,
    "editable": true,
    "executionInfo": {
     "elapsed": 578,
     "status": "ok",
     "timestamp": 1625335319491,
     "user": {
      "displayName": "SAMUEL HERICLES SOUZA SILVEIRA UFC",
      "photoUrl": "",
      "userId": "12708602358479385648"
     },
     "user_tz": 180
    },
    "id": "7e6640c2",
    "outputId": "e05e02c7-4f5b-41cb-b8a5-fc5e6d0a3011"
   },
   "outputs": [
    {
     "data": {
      "text/plain": [
       "(tensor([[[ 12., 115.,  36.,  ..., 102.,  40.,  18.],\n",
       "          [109.,  50.,  13.,  ...,  47.,  10.,  86.],\n",
       "          [ 47.,  18.,  94.,  ...,   1.,  51.,  48.],\n",
       "          ...,\n",
       "          [100.,  36.,   9.,  ...,  53.,   9.,  89.],\n",
       "          [ 54.,   4.,  84.,  ...,   7.,  57.,  46.],\n",
       "          [  9., 112.,  29.,  ..., 112.,  48.,  11.]],\n",
       " \n",
       "         [[110.,  45.,   5.,  ...,  47.,  12.,  92.],\n",
       "          [ 57.,  12.,  92.,  ...,  15.,  62.,  52.],\n",
       "          [  5., 110.,  26.,  ..., 105.,  40.,  12.],\n",
       "          ...,\n",
       "          [212., 172., 250.,  ...,   3.,  58.,  52.],\n",
       "          [  5., 106.,  26.,  ..., 108.,  45.,  24.],\n",
       "          [120.,  57.,   9.,  ..., 219., 166., 246.]],\n",
       " \n",
       "         [[211., 171., 249.,  ...,   5.,  58.,  50.],\n",
       "          [  5., 106.,  28.,  ..., 100.,  37.,   7.],\n",
       "          [106.,  42.,   3.,  ..., 201., 165., 245.],\n",
       "          ...,\n",
       "          [  8., 106.,  29.,  ..., 111.,  50.,   8.],\n",
       "          [106.,  45.,   7.,  ...,  50.,  13.,  89.],\n",
       "          [ 50.,   7.,  83.,  ...,   1.,  57.,  48.]]]),\n",
       " {'boxes': tensor([[ 555,  574, 1000,  730]]),\n",
       "  'labels': tensor([1]),\n",
       "  'area': tensor([69420.]),\n",
       "  'image_id': tensor([0]),\n",
       "  'iscrowd': tensor([0])})"
      ]
     },
     "execution_count": 3,
     "metadata": {},
     "output_type": "execute_result"
    }
   ],
   "source": [
    "dataset = PennFudanDataset()\n",
    "dataset[0]"
   ]
  },
  {
   "cell_type": "code",
   "execution_count": 4,
   "id": "918ce1e8",
   "metadata": {
    "collapsed": true,
    "deletable": true,
    "editable": true,
    "executionInfo": {
     "elapsed": 988,
     "status": "ok",
     "timestamp": 1625335322699,
     "user": {
      "displayName": "SAMUEL HERICLES SOUZA SILVEIRA UFC",
      "photoUrl": "",
      "userId": "12708602358479385648"
     },
     "user_tz": 180
    },
    "id": "cx-8P9buyllv"
   },
   "outputs": [],
   "source": [
    "model = torchvision.models.detection.fasterrcnn_resnet50_fpn(pretrained=True)"
   ]
  },
  {
   "cell_type": "code",
   "execution_count": 5,
   "id": "d0bb4d01",
   "metadata": {
    "collapsed": true,
    "deletable": true,
    "editable": true,
    "executionInfo": {
     "elapsed": 46,
     "status": "ok",
     "timestamp": 1625332304863,
     "user": {
      "displayName": "SAMUEL HERICLES SOUZA SILVEIRA UFC",
      "photoUrl": "",
      "userId": "12708602358479385648"
     },
     "user_tz": 180
    },
    "id": "zxrUw6UZ0B61"
   },
   "outputs": [],
   "source": [
    "class Averager:\n",
    "    def __init__(self):\n",
    "        self.current_total = 0.0\n",
    "        self.iterations = 0.0\n",
    "\n",
    "    def send(self, value):\n",
    "        self.current_total += value\n",
    "        self.iterations += 1\n",
    "\n",
    "    @property\n",
    "    def value(self):\n",
    "        if self.iterations == 0:\n",
    "            return 0\n",
    "        else:\n",
    "            return 1.0 * self.current_total / self.iterations\n",
    "\n",
    "    def reset(self):\n",
    "        self.current_total = 0.0\n",
    "        self.iterations = 0.0"
   ]
  },
  {
   "cell_type": "code",
   "execution_count": 6,
   "id": "7ac96bc4",
   "metadata": {
    "collapsed": true,
    "deletable": true,
    "editable": true,
    "executionInfo": {
     "elapsed": 3,
     "status": "ok",
     "timestamp": 1625335324271,
     "user": {
      "displayName": "SAMUEL HERICLES SOUZA SILVEIRA UFC",
      "photoUrl": "",
      "userId": "12708602358479385648"
     },
     "user_tz": 180
    },
    "id": "OjPzk-sS0FVi"
   },
   "outputs": [],
   "source": [
    "def collate_fn(batch):\n",
    "    return tuple(zip(*batch))"
   ]
  },
  {
   "cell_type": "code",
   "execution_count": 7,
   "id": "641cae1a",
   "metadata": {
    "collapsed": true,
    "deletable": true,
    "editable": true,
    "executionInfo": {
     "elapsed": 521,
     "status": "ok",
     "timestamp": 1625335326379,
     "user": {
      "displayName": "SAMUEL HERICLES SOUZA SILVEIRA UFC",
      "photoUrl": "",
      "userId": "12708602358479385648"
     },
     "user_tz": 180
    },
    "id": "V4A-8yyXyliw"
   },
   "outputs": [],
   "source": [
    "num_classes = 2  # 1 class (wheat) + background\n",
    "\n",
    "# get number of input features for the classifier\n",
    "in_features = model.roi_heads.box_predictor.cls_score.in_features\n",
    "\n",
    "# replace the pre-trained head with a new one\n",
    "model.roi_heads.box_predictor = FastRCNNPredictor(in_features, num_classes)"
   ]
  },
  {
   "cell_type": "code",
   "execution_count": 15,
   "id": "8d4ae8a7",
   "metadata": {
    "collapsed": true,
    "deletable": true,
    "editable": true,
    "executionInfo": {
     "elapsed": 378,
     "status": "ok",
     "timestamp": 1625335349023,
     "user": {
      "displayName": "SAMUEL HERICLES SOUZA SILVEIRA UFC",
      "photoUrl": "",
      "userId": "12708602358479385648"
     },
     "user_tz": 180
    },
    "id": "5zcBc-f0ylgb"
   },
   "outputs": [],
   "source": [
    "# use our dataset and defined transformations\n",
    "dataset = PennFudanDataset()\n",
    "dataset_test = PennFudanDataset()\n",
    "\n",
    "# split the dataset in train and test set\n",
    "torch.manual_seed(1)\n",
    "indices = torch.randperm(113).tolist()\n",
    "dataset = torch.utils.data.Subset(dataset, indices[:-34])\n",
    "dataset_test = torch.utils.data.Subset(dataset_test, indices[-34:])\n",
    "\n",
    "# define training and validation data loaders\n",
    "data_loader = torch.utils.data.DataLoader(\n",
    "    dataset, batch_size= 1, shuffle = False, num_workers=1,\n",
    "    collate_fn = collate_fn)"
   ]
  },
  {
   "cell_type": "code",
   "execution_count": 16,
   "id": "fe969b5c",
   "metadata": {
    "collapsed": true,
    "deletable": true,
    "editable": true,
    "executionInfo": {
     "elapsed": 4,
     "status": "ok",
     "timestamp": 1625335350053,
     "user": {
      "displayName": "SAMUEL HERICLES SOUZA SILVEIRA UFC",
      "photoUrl": "",
      "userId": "12708602358479385648"
     },
     "user_tz": 180
    },
    "id": "C_94B-x2ylbK"
   },
   "outputs": [],
   "source": [
    "device = torch.device('cuda') if torch.cuda.is_available() else torch.device('cpu')\n",
    "\n",
    "\n",
    "model.to(device)\n",
    "params = [p for p in model.parameters() if p.requires_grad]\n",
    "optimizer = torch.optim.Adam(params, lr=0.0005, weight_decay=0.00005)\n",
    "lr_scheduler = torch.optim.lr_scheduler.StepLR(optimizer, step_size=1, gamma=0.1)\n",
    "\n",
    "num_epochs = 1"
   ]
  },
  {
   "cell_type": "code",
   "execution_count": 17,
   "id": "897ecda8",
   "metadata": {
    "colab": {
     "base_uri": "https://localhost:8080/"
    },
    "collapsed": false,
    "deletable": true,
    "editable": true,
    "executionInfo": {
     "elapsed": 2895026,
     "status": "ok",
     "timestamp": 1625338252621,
     "user": {
      "displayName": "SAMUEL HERICLES SOUZA SILVEIRA UFC",
      "photoUrl": "",
      "userId": "12708602358479385648"
     },
     "user_tz": 180
    },
    "id": "L2qxDJTxylYx",
    "outputId": "023a349a-e243-4ca0-8ab3-29587bf48967"
   },
   "outputs": [
    {
     "ename": "RuntimeError",
     "evalue": "DataLoader worker (pid(s) 3916) exited unexpectedly",
     "output_type": "error",
     "traceback": [
      "\u001b[1;31m---------------------------------------------------------------------------\u001b[0m",
      "\u001b[1;31mEmpty\u001b[0m                                     Traceback (most recent call last)",
      "\u001b[1;32m~\\miniconda3\\envs\\env_model_arts\\lib\\site-packages\\torch\\utils\\data\\dataloader.py\u001b[0m in \u001b[0;36m_try_get_data\u001b[1;34m(self, timeout)\u001b[0m\n\u001b[0;32m    985\u001b[0m         \u001b[1;32mtry\u001b[0m\u001b[1;33m:\u001b[0m\u001b[1;33m\u001b[0m\u001b[0m\n\u001b[1;32m--> 986\u001b[1;33m             \u001b[0mdata\u001b[0m \u001b[1;33m=\u001b[0m \u001b[0mself\u001b[0m\u001b[1;33m.\u001b[0m\u001b[0m_data_queue\u001b[0m\u001b[1;33m.\u001b[0m\u001b[0mget\u001b[0m\u001b[1;33m(\u001b[0m\u001b[0mtimeout\u001b[0m\u001b[1;33m=\u001b[0m\u001b[0mtimeout\u001b[0m\u001b[1;33m)\u001b[0m\u001b[1;33m\u001b[0m\u001b[0m\n\u001b[0m\u001b[0;32m    987\u001b[0m             \u001b[1;32mreturn\u001b[0m \u001b[1;33m(\u001b[0m\u001b[1;32mTrue\u001b[0m\u001b[1;33m,\u001b[0m \u001b[0mdata\u001b[0m\u001b[1;33m)\u001b[0m\u001b[1;33m\u001b[0m\u001b[0m\n",
      "\u001b[1;32m~\\miniconda3\\envs\\env_model_arts\\lib\\multiprocessing\\queues.py\u001b[0m in \u001b[0;36mget\u001b[1;34m(self, block, timeout)\u001b[0m\n\u001b[0;32m    104\u001b[0m                     \u001b[1;32mif\u001b[0m \u001b[1;32mnot\u001b[0m \u001b[0mself\u001b[0m\u001b[1;33m.\u001b[0m\u001b[0m_poll\u001b[0m\u001b[1;33m(\u001b[0m\u001b[0mtimeout\u001b[0m\u001b[1;33m)\u001b[0m\u001b[1;33m:\u001b[0m\u001b[1;33m\u001b[0m\u001b[0m\n\u001b[1;32m--> 105\u001b[1;33m                         \u001b[1;32mraise\u001b[0m \u001b[0mEmpty\u001b[0m\u001b[1;33m\u001b[0m\u001b[0m\n\u001b[0m\u001b[0;32m    106\u001b[0m                 \u001b[1;32melif\u001b[0m \u001b[1;32mnot\u001b[0m \u001b[0mself\u001b[0m\u001b[1;33m.\u001b[0m\u001b[0m_poll\u001b[0m\u001b[1;33m(\u001b[0m\u001b[1;33m)\u001b[0m\u001b[1;33m:\u001b[0m\u001b[1;33m\u001b[0m\u001b[0m\n",
      "\u001b[1;31mEmpty\u001b[0m: ",
      "\nThe above exception was the direct cause of the following exception:\n",
      "\u001b[1;31mRuntimeError\u001b[0m                              Traceback (most recent call last)",
      "\u001b[1;32m<ipython-input-17-52675d58e014>\u001b[0m in \u001b[0;36m<module>\u001b[1;34m\u001b[0m\n\u001b[0;32m      5\u001b[0m     \u001b[0mloss_hist\u001b[0m\u001b[1;33m.\u001b[0m\u001b[0mreset\u001b[0m\u001b[1;33m(\u001b[0m\u001b[1;33m)\u001b[0m\u001b[1;33m\u001b[0m\u001b[0m\n\u001b[0;32m      6\u001b[0m \u001b[1;33m\u001b[0m\u001b[0m\n\u001b[1;32m----> 7\u001b[1;33m     \u001b[1;32mfor\u001b[0m \u001b[0mimages\u001b[0m\u001b[1;33m,\u001b[0m \u001b[0mtarget\u001b[0m \u001b[1;32min\u001b[0m \u001b[0mdata_loader\u001b[0m\u001b[1;33m:\u001b[0m\u001b[1;33m\u001b[0m\u001b[0m\n\u001b[0m\u001b[0;32m      8\u001b[0m       \u001b[0mimages\u001b[0m \u001b[1;33m=\u001b[0m \u001b[0mlist\u001b[0m\u001b[1;33m(\u001b[0m\u001b[0mimage\u001b[0m\u001b[1;33m.\u001b[0m\u001b[0mto\u001b[0m\u001b[1;33m(\u001b[0m\u001b[0mdevice\u001b[0m\u001b[1;33m)\u001b[0m \u001b[1;32mfor\u001b[0m \u001b[0mimage\u001b[0m \u001b[1;32min\u001b[0m \u001b[0mimages\u001b[0m\u001b[1;33m)\u001b[0m\u001b[1;33m\u001b[0m\u001b[0m\n\u001b[0;32m      9\u001b[0m       \u001b[0mtarget\u001b[0m \u001b[1;33m=\u001b[0m \u001b[1;33m[\u001b[0m\u001b[1;33m{\u001b[0m\u001b[0mk\u001b[0m\u001b[1;33m:\u001b[0m \u001b[0mv\u001b[0m\u001b[1;33m.\u001b[0m\u001b[0mto\u001b[0m\u001b[1;33m(\u001b[0m\u001b[0mdevice\u001b[0m\u001b[1;33m)\u001b[0m \u001b[1;32mfor\u001b[0m \u001b[0mk\u001b[0m\u001b[1;33m,\u001b[0m \u001b[0mv\u001b[0m \u001b[1;32min\u001b[0m \u001b[0mt\u001b[0m\u001b[1;33m.\u001b[0m\u001b[0mitems\u001b[0m\u001b[1;33m(\u001b[0m\u001b[1;33m)\u001b[0m\u001b[1;33m}\u001b[0m \u001b[1;32mfor\u001b[0m \u001b[0mt\u001b[0m \u001b[1;32min\u001b[0m \u001b[0mtarget\u001b[0m\u001b[1;33m]\u001b[0m\u001b[1;33m\u001b[0m\u001b[0m\n",
      "\u001b[1;32m~\\miniconda3\\envs\\env_model_arts\\lib\\site-packages\\torch\\utils\\data\\dataloader.py\u001b[0m in \u001b[0;36m__next__\u001b[1;34m(self)\u001b[0m\n\u001b[0;32m    515\u001b[0m             \u001b[1;32mif\u001b[0m \u001b[0mself\u001b[0m\u001b[1;33m.\u001b[0m\u001b[0m_sampler_iter\u001b[0m \u001b[1;32mis\u001b[0m \u001b[1;32mNone\u001b[0m\u001b[1;33m:\u001b[0m\u001b[1;33m\u001b[0m\u001b[0m\n\u001b[0;32m    516\u001b[0m                 \u001b[0mself\u001b[0m\u001b[1;33m.\u001b[0m\u001b[0m_reset\u001b[0m\u001b[1;33m(\u001b[0m\u001b[1;33m)\u001b[0m\u001b[1;33m\u001b[0m\u001b[0m\n\u001b[1;32m--> 517\u001b[1;33m             \u001b[0mdata\u001b[0m \u001b[1;33m=\u001b[0m \u001b[0mself\u001b[0m\u001b[1;33m.\u001b[0m\u001b[0m_next_data\u001b[0m\u001b[1;33m(\u001b[0m\u001b[1;33m)\u001b[0m\u001b[1;33m\u001b[0m\u001b[0m\n\u001b[0m\u001b[0;32m    518\u001b[0m             \u001b[0mself\u001b[0m\u001b[1;33m.\u001b[0m\u001b[0m_num_yielded\u001b[0m \u001b[1;33m+=\u001b[0m \u001b[1;36m1\u001b[0m\u001b[1;33m\u001b[0m\u001b[0m\n\u001b[0;32m    519\u001b[0m             \u001b[1;32mif\u001b[0m \u001b[0mself\u001b[0m\u001b[1;33m.\u001b[0m\u001b[0m_dataset_kind\u001b[0m \u001b[1;33m==\u001b[0m \u001b[0m_DatasetKind\u001b[0m\u001b[1;33m.\u001b[0m\u001b[0mIterable\u001b[0m \u001b[1;32mand\u001b[0m\u001b[0;31m \u001b[0m\u001b[0;31m\\\u001b[0m\u001b[1;33m\u001b[0m\u001b[0m\n",
      "\u001b[1;32m~\\miniconda3\\envs\\env_model_arts\\lib\\site-packages\\torch\\utils\\data\\dataloader.py\u001b[0m in \u001b[0;36m_next_data\u001b[1;34m(self)\u001b[0m\n\u001b[0;32m   1180\u001b[0m \u001b[1;33m\u001b[0m\u001b[0m\n\u001b[0;32m   1181\u001b[0m             \u001b[1;32massert\u001b[0m \u001b[1;32mnot\u001b[0m \u001b[0mself\u001b[0m\u001b[1;33m.\u001b[0m\u001b[0m_shutdown\u001b[0m \u001b[1;32mand\u001b[0m \u001b[0mself\u001b[0m\u001b[1;33m.\u001b[0m\u001b[0m_tasks_outstanding\u001b[0m \u001b[1;33m>\u001b[0m \u001b[1;36m0\u001b[0m\u001b[1;33m\u001b[0m\u001b[0m\n\u001b[1;32m-> 1182\u001b[1;33m             \u001b[0midx\u001b[0m\u001b[1;33m,\u001b[0m \u001b[0mdata\u001b[0m \u001b[1;33m=\u001b[0m \u001b[0mself\u001b[0m\u001b[1;33m.\u001b[0m\u001b[0m_get_data\u001b[0m\u001b[1;33m(\u001b[0m\u001b[1;33m)\u001b[0m\u001b[1;33m\u001b[0m\u001b[0m\n\u001b[0m\u001b[0;32m   1183\u001b[0m             \u001b[0mself\u001b[0m\u001b[1;33m.\u001b[0m\u001b[0m_tasks_outstanding\u001b[0m \u001b[1;33m-=\u001b[0m \u001b[1;36m1\u001b[0m\u001b[1;33m\u001b[0m\u001b[0m\n\u001b[0;32m   1184\u001b[0m             \u001b[1;32mif\u001b[0m \u001b[0mself\u001b[0m\u001b[1;33m.\u001b[0m\u001b[0m_dataset_kind\u001b[0m \u001b[1;33m==\u001b[0m \u001b[0m_DatasetKind\u001b[0m\u001b[1;33m.\u001b[0m\u001b[0mIterable\u001b[0m\u001b[1;33m:\u001b[0m\u001b[1;33m\u001b[0m\u001b[0m\n",
      "\u001b[1;32m~\\miniconda3\\envs\\env_model_arts\\lib\\site-packages\\torch\\utils\\data\\dataloader.py\u001b[0m in \u001b[0;36m_get_data\u001b[1;34m(self)\u001b[0m\n\u001b[0;32m   1146\u001b[0m         \u001b[1;32melse\u001b[0m\u001b[1;33m:\u001b[0m\u001b[1;33m\u001b[0m\u001b[0m\n\u001b[0;32m   1147\u001b[0m             \u001b[1;32mwhile\u001b[0m \u001b[1;32mTrue\u001b[0m\u001b[1;33m:\u001b[0m\u001b[1;33m\u001b[0m\u001b[0m\n\u001b[1;32m-> 1148\u001b[1;33m                 \u001b[0msuccess\u001b[0m\u001b[1;33m,\u001b[0m \u001b[0mdata\u001b[0m \u001b[1;33m=\u001b[0m \u001b[0mself\u001b[0m\u001b[1;33m.\u001b[0m\u001b[0m_try_get_data\u001b[0m\u001b[1;33m(\u001b[0m\u001b[1;33m)\u001b[0m\u001b[1;33m\u001b[0m\u001b[0m\n\u001b[0m\u001b[0;32m   1149\u001b[0m                 \u001b[1;32mif\u001b[0m \u001b[0msuccess\u001b[0m\u001b[1;33m:\u001b[0m\u001b[1;33m\u001b[0m\u001b[0m\n\u001b[0;32m   1150\u001b[0m                     \u001b[1;32mreturn\u001b[0m \u001b[0mdata\u001b[0m\u001b[1;33m\u001b[0m\u001b[0m\n",
      "\u001b[1;32m~\\miniconda3\\envs\\env_model_arts\\lib\\site-packages\\torch\\utils\\data\\dataloader.py\u001b[0m in \u001b[0;36m_try_get_data\u001b[1;34m(self, timeout)\u001b[0m\n\u001b[0;32m    997\u001b[0m             \u001b[1;32mif\u001b[0m \u001b[0mlen\u001b[0m\u001b[1;33m(\u001b[0m\u001b[0mfailed_workers\u001b[0m\u001b[1;33m)\u001b[0m \u001b[1;33m>\u001b[0m \u001b[1;36m0\u001b[0m\u001b[1;33m:\u001b[0m\u001b[1;33m\u001b[0m\u001b[0m\n\u001b[0;32m    998\u001b[0m                 \u001b[0mpids_str\u001b[0m \u001b[1;33m=\u001b[0m \u001b[1;34m', '\u001b[0m\u001b[1;33m.\u001b[0m\u001b[0mjoin\u001b[0m\u001b[1;33m(\u001b[0m\u001b[0mstr\u001b[0m\u001b[1;33m(\u001b[0m\u001b[0mw\u001b[0m\u001b[1;33m.\u001b[0m\u001b[0mpid\u001b[0m\u001b[1;33m)\u001b[0m \u001b[1;32mfor\u001b[0m \u001b[0mw\u001b[0m \u001b[1;32min\u001b[0m \u001b[0mfailed_workers\u001b[0m\u001b[1;33m)\u001b[0m\u001b[1;33m\u001b[0m\u001b[0m\n\u001b[1;32m--> 999\u001b[1;33m                 \u001b[1;32mraise\u001b[0m \u001b[0mRuntimeError\u001b[0m\u001b[1;33m(\u001b[0m\u001b[1;34m'DataLoader worker (pid(s) {}) exited unexpectedly'\u001b[0m\u001b[1;33m.\u001b[0m\u001b[0mformat\u001b[0m\u001b[1;33m(\u001b[0m\u001b[0mpids_str\u001b[0m\u001b[1;33m)\u001b[0m\u001b[1;33m)\u001b[0m \u001b[1;32mfrom\u001b[0m \u001b[0me\u001b[0m\u001b[1;33m\u001b[0m\u001b[0m\n\u001b[0m\u001b[0;32m   1000\u001b[0m             \u001b[1;32mif\u001b[0m \u001b[0misinstance\u001b[0m\u001b[1;33m(\u001b[0m\u001b[0me\u001b[0m\u001b[1;33m,\u001b[0m \u001b[0mqueue\u001b[0m\u001b[1;33m.\u001b[0m\u001b[0mEmpty\u001b[0m\u001b[1;33m)\u001b[0m\u001b[1;33m:\u001b[0m\u001b[1;33m\u001b[0m\u001b[0m\n\u001b[0;32m   1001\u001b[0m                 \u001b[1;32mreturn\u001b[0m \u001b[1;33m(\u001b[0m\u001b[1;32mFalse\u001b[0m\u001b[1;33m,\u001b[0m \u001b[1;32mNone\u001b[0m\u001b[1;33m)\u001b[0m\u001b[1;33m\u001b[0m\u001b[0m\n",
      "\u001b[1;31mRuntimeError\u001b[0m: DataLoader worker (pid(s) 3916) exited unexpectedly"
     ]
    }
   ],
   "source": [
    "loss_hist = Averager()\n",
    "itr = 1\n",
    "\n",
    "for epoch in range(num_epochs):\n",
    "    loss_hist.reset()\n",
    "    \n",
    "    for images, target in data_loader:\n",
    "      images = list(image.to(device) for image in images)\n",
    "      target = [{k: v.to(device) for k, v in t.items()} for t in target]\n",
    "      loss_dict = model(images, target)\n",
    "      \n",
    "      print(loss_dict)\n",
    "\n",
    "      losses = sum(loss for loss in loss_dict.values())\n",
    "      loss_value = losses.item()\n",
    "\n",
    "      loss_hist.send(loss_value)\n",
    "\n",
    "      optimizer.zero_grad()\n",
    "      losses.backward()\n",
    "      optimizer.step()\n",
    "\n",
    "      if itr % 2 == 0:\n",
    "          print(f\"Iteration #{itr} loss: {loss_value}\")\n",
    "\n",
    "      itr += 1\n",
    "    lr_scheduler.step()\n",
    "    print(f\"Epoch #{epoch} loss: {loss_hist.value}\")   "
   ]
  },
  {
   "cell_type": "code",
   "execution_count": null,
   "id": "19b3ed04",
   "metadata": {
    "collapsed": true,
    "deletable": true,
    "editable": true,
    "id": "GjDWBYFfYbeg"
   },
   "outputs": [],
   "source": []
  },
  {
   "cell_type": "code",
   "execution_count": null,
   "id": "a95a209c",
   "metadata": {
    "collapsed": true,
    "deletable": true,
    "editable": true,
    "id": "cMY96DE2YbcS"
   },
   "outputs": [],
   "source": []
  },
  {
   "cell_type": "code",
   "execution_count": null,
   "id": "b0aecf1e",
   "metadata": {
    "collapsed": true,
    "deletable": true,
    "editable": true,
    "id": "ZccD3WaiYbZy"
   },
   "outputs": [],
   "source": []
  },
  {
   "cell_type": "code",
   "execution_count": 391,
   "id": "a2abe289",
   "metadata": {
    "collapsed": true,
    "deletable": true,
    "editable": true,
    "executionInfo": {
     "elapsed": 503,
     "status": "ok",
     "timestamp": 1625331446810,
     "user": {
      "displayName": "SAMUEL HERICLES SOUZA SILVEIRA UFC",
      "photoUrl": "",
      "userId": "12708602358479385648"
     },
     "user_tz": 180
    },
    "id": "mgH2P1RKylOq"
   },
   "outputs": [],
   "source": []
  },
  {
   "cell_type": "code",
   "execution_count": 60,
   "id": "517b514a",
   "metadata": {
    "colab": {
     "base_uri": "https://localhost:8080/"
    },
    "collapsed": false,
    "deletable": true,
    "editable": true,
    "executionInfo": {
     "elapsed": 341,
     "status": "ok",
     "timestamp": 1625341479979,
     "user": {
      "displayName": "SAMUEL HERICLES SOUZA SILVEIRA UFC",
      "photoUrl": "",
      "userId": "12708602358479385648"
     },
     "user_tz": 180
    },
    "id": "l4JwkgSFylMd",
    "outputId": "4ce1fba0-b335-4680-fe69-b628b3baa908"
   },
   "outputs": [
    {
     "name": "stdout",
     "output_type": "stream",
     "text": [
      "torch.Size([3, 879, 1000])\n"
     ]
    }
   ],
   "source": [
    "images, targets = dataset[0]\n",
    "boxes = targets['boxes'].cpu().numpy().astype(np.int32)\n",
    "sample = images.numpy()[0]\n",
    "print(images.size())"
   ]
  },
  {
   "cell_type": "code",
   "execution_count": 61,
   "id": "99c6de4c",
   "metadata": {
    "colab": {
     "base_uri": "https://localhost:8080/"
    },
    "collapsed": false,
    "deletable": true,
    "editable": true,
    "executionInfo": {
     "elapsed": 4812,
     "status": "ok",
     "timestamp": 1625341485388,
     "user": {
      "displayName": "SAMUEL HERICLES SOUZA SILVEIRA UFC",
      "photoUrl": "",
      "userId": "12708602358479385648"
     },
     "user_tz": 180
    },
    "id": "SQNIRDk3NpXT",
    "outputId": "6f59e668-a5ed-4aa5-bf98-f9aad755a788"
   },
   "outputs": [
    {
     "name": "stdout",
     "output_type": "stream",
     "text": [
      "[{'boxes': tensor([[5.4788e+02, 2.6769e+02, 1.0000e+03, 8.5818e+02],\n",
      "        [3.0304e+02, 2.1893e+02, 1.0000e+03, 5.7839e+02],\n",
      "        [2.3202e+02, 3.5527e+02, 1.0000e+03, 7.0949e+02],\n",
      "        [1.4195e+02, 2.8056e+02, 8.1903e+02, 8.6018e+02],\n",
      "        [1.5185e+02, 8.5809e+01, 1.0000e+03, 4.4963e+02],\n",
      "        [2.3783e+02, 5.5995e+02, 1.0000e+03, 8.6818e+02],\n",
      "        [5.0583e+01, 6.6277e+01, 7.7086e+02, 7.3226e+02],\n",
      "        [5.2132e+02, 9.8010e-01, 1.0000e+03, 6.7584e+02],\n",
      "        [0.0000e+00, 2.4953e+02, 4.3686e+02, 8.6268e+02],\n",
      "        [3.5170e+02, 0.0000e+00, 8.5949e+02, 6.0532e+02]],\n",
      "       grad_fn=<StackBackward>), 'labels': tensor([1, 1, 1, 1, 1, 1, 1, 1, 1, 1]), 'scores': tensor([0.1138, 0.1116, 0.1084, 0.1076, 0.1007, 0.0976, 0.0959, 0.0765, 0.0719,\n",
      "        0.0706], grad_fn=<IndexBackward>)}]\n"
     ]
    }
   ],
   "source": [
    "model.eval()\n",
    "cpu_device = torch.device(\"cpu\")\n",
    "\n",
    "outputs = model(torch.reshape(images, (1, 3, images.size()[1], images.size()[2])))\n",
    "outputs = [{k: v.to(cpu_device) for k, v in t.items()} for t in outputs]\n",
    "\n",
    "print(outputs)\n",
    "boxes = outputs[0]['boxes']"
   ]
  },
  {
   "cell_type": "code",
   "execution_count": 70,
   "id": "a846a5ce",
   "metadata": {
    "colab": {
     "base_uri": "https://localhost:8080/",
     "height": 265
    },
    "collapsed": false,
    "deletable": true,
    "editable": true,
    "executionInfo": {
     "elapsed": 840,
     "status": "ok",
     "timestamp": 1625341697055,
     "user": {
      "displayName": "SAMUEL HERICLES SOUZA SILVEIRA UFC",
      "photoUrl": "",
      "userId": "12708602358479385648"
     },
     "user_tz": 180
    },
    "id": "bdIyHVqg3PJ4",
    "outputId": "87d76b67-0b0b-4ae9-ca4d-1ee337adc124"
   },
   "outputs": [
    {
     "data": {
      "text/plain": [
       "<matplotlib.image.AxesImage at 0x7f7d6c6953d0>"
      ]
     },
     "execution_count": 70,
     "metadata": {
      "tags": []
     },
     "output_type": "execute_result"
    },
    {
     "data": {
      "image/png": "[encoded data removed]",
      "text/plain": [
       "<Figure size 432x288 with 1 Axes>"
      ]
     },
     "metadata": {
      "needs_background": "light",
      "tags": []
     },
     "output_type": "display_data"
    }
   ],
   "source": [
    "plt.axis('off')\n",
    "\n",
    "for box in boxes:\n",
    "    x = int(box[0].detach().numpy())\n",
    "    y = int(box[1].detach().numpy())\n",
    "    sample = cv2.circle(sample, (x, y), 5, (255, 0, 0), 5)\n",
    "    \n",
    "plt.imshow(sample)"
   ]
  },
  {
   "cell_type": "code",
   "execution_count": 71,
   "id": "2f32c204",
   "metadata": {
    "colab": {
     "base_uri": "https://localhost:8080/"
    },
    "collapsed": false,
    "deletable": true,
    "editable": true,
    "executionInfo": {
     "elapsed": 351,
     "status": "ok",
     "timestamp": 1625341706611,
     "user": {
      "displayName": "SAMUEL HERICLES SOUZA SILVEIRA UFC",
      "photoUrl": "",
      "userId": "12708602358479385648"
     },
     "user_tz": 180
    },
    "id": "Ox1ATRLt56f0",
    "outputId": "8b268b56-7fbe-405d-fad3-e28813a36da5"
   },
   "outputs": [
    {
     "data": {
      "text/plain": [
       "array([[237., 237., 237., ..., 236., 236., 229.],\n",
       "       [229., 229., 232., ..., 234., 236., 236.],\n",
       "       [236., 239., 239., ..., 233., 233., 233.],\n",
       "       ...,\n",
       "       [214., 214., 214., ..., 212., 212., 216.],\n",
       "       [216., 216., 204., ..., 154., 144., 144.],\n",
       "       [144., 185., 185., ..., 217., 217., 217.]], dtype=float32)"
      ]
     },
     "execution_count": 71,
     "metadata": {
      "tags": []
     },
     "output_type": "execute_result"
    }
   ],
   "source": [
    "cvsample"
   ]
  },
  {
   "cell_type": "code",
   "execution_count": 78,
   "id": "54cf14cc",
   "metadata": {
    "colab": {
     "base_uri": "https://localhost:8080/",
     "height": 282
    },
    "collapsed": false,
    "deletable": true,
    "editable": true,
    "executionInfo": {
     "elapsed": 637,
     "status": "ok",
     "timestamp": 1625341925642,
     "user": {
      "displayName": "SAMUEL HERICLES SOUZA SILVEIRA UFC",
      "photoUrl": "",
      "userId": "12708602358479385648"
     },
     "user_tz": 180
    },
    "id": "JWW3tZol56da",
    "outputId": "dc627ebb-9d5e-4940-a9d8-0c84623bbb0c"
   },
   "outputs": [
    {
     "name": "stdout",
     "output_type": "stream",
     "text": [
      "(879, 1000, 3)\n"
     ]
    },
    {
     "data": {
      "text/plain": [
       "<matplotlib.image.AxesImage at 0x7f7d6c6b6550>"
      ]
     },
     "execution_count": 78,
     "metadata": {
      "tags": []
     },
     "output_type": "execute_result"
    },
    {
     "data": {
      "image/png": "[encoded data removed]",
      "text/plain": [
       "<Figure size 432x288 with 1 Axes>"
      ]
     },
     "metadata": {
      "needs_background": "light",
      "tags": []
     },
     "output_type": "display_data"
    }
   ],
   "source": [
    "img = cv2.cvtColor(sample, cv2.COLOR_BGR2RGB).astype(np.int32)\n",
    "plt.axis('off')\n",
    "plt.imshow(img)"
   ]
  },
  {
   "cell_type": "code",
   "execution_count": null,
   "id": "3c533f6c",
   "metadata": {
    "collapsed": true,
    "deletable": true,
    "editable": true,
    "id": "-HLhCeY956a9"
   },
   "outputs": [],
   "source": []
  },
  {
   "cell_type": "code",
   "execution_count": null,
   "id": "aa34c28e",
   "metadata": {
    "collapsed": true,
    "deletable": true,
    "editable": true,
    "id": "iKFjx2dG56WT"
   },
   "outputs": [],
   "source": []
  },
  {
   "cell_type": "code",
   "execution_count": null,
   "id": "691c68ee",
   "metadata": {
    "collapsed": true,
    "deletable": true,
    "editable": true,
    "id": "yIB7DUDF56Tx"
   },
   "outputs": [],
   "source": []
  },
  {
   "cell_type": "code",
   "execution_count": null,
   "id": "53720f84",
   "metadata": {
    "collapsed": true,
    "deletable": true,
    "editable": true,
    "id": "GMIBwXtPyk9-"
   },
   "outputs": [],
   "source": []
  },
  {
   "cell_type": "code",
   "execution_count": null,
   "id": "5249e6bb",
   "metadata": {
    "collapsed": true,
    "deletable": true,
    "editable": true,
    "id": "U7ePTTLI56EJ"
   },
   "outputs": [],
   "source": []
  },
  {
   "cell_type": "code",
   "execution_count": null,
   "id": "bd8e0f0c",
   "metadata": {
    "collapsed": true,
    "deletable": true,
    "editable": true,
    "id": "cf425258"
   },
   "outputs": [],
   "source": [
    "\n",
    "def get_instance_segmentation_model(num_classes):\n",
    "    # load an instance segmentation model pre-trained on COCO\n",
    "    model = torchvision.models.detection.maskrcnn_resnet50_fpn(pretrained=True)\n",
    "\n",
    "    # get the number of input features for the classifier\n",
    "    in_features = model.roi_heads.box_predictor.cls_score.in_features\n",
    "\n",
    "    # replace the pre-trained head with a new one\n",
    "    model.roi_heads.box_predictor = FastRCNNPredictor(in_features, num_classes)\n",
    "\n",
    "    # now get the number of input features for the mask classifier\n",
    "    in_features_mask = model.roi_heads.mask_predictor.conv5_mask.in_channels\n",
    "    hidden_layer = 256\n",
    "    # and replace the mask predictor with a new one\n",
    "    model.roi_heads.mask_predictor = MaskRCNNPredictor(in_features_mask,\n",
    "                                                       hidden_layer,\n",
    "                                                       num_classes)\n",
    "\n",
    "    return model"
   ]
  },
  {
   "cell_type": "code",
   "execution_count": null,
   "id": "b8b17c48",
   "metadata": {
    "colab": {
     "base_uri": "https://localhost:8080/"
    },
    "collapsed": false,
    "deletable": true,
    "editable": true,
    "executionInfo": {
     "elapsed": 6,
     "status": "ok",
     "timestamp": 1625247775499,
     "user": {
      "displayName": "SAMUEL HERICLES SOUZA SILVEIRA UFC",
      "photoUrl": "",
      "userId": "12708602358479385648"
     },
     "user_tz": 180
    },
    "id": "971b43d8",
    "outputId": "a32ab96a-f98c-45ac-e7ee-4863bbf4cd4b"
   },
   "outputs": [
    {
     "name": "stderr",
     "output_type": "stream",
     "text": [
      "/usr/local/lib/python3.7/dist-packages/torch/utils/data/dataloader.py:481: UserWarning: This DataLoader will create 4 worker processes in total. Our suggested max number of worker in current system is 2, which is smaller than what this DataLoader is going to create. Please be aware that excessive worker creation might get DataLoader running slow or even freeze, lower the worker number to avoid potential slowness/freeze if necessary.\n",
      "  cpuset_checked))\n"
     ]
    }
   ],
   "source": [
    "# use our dataset and defined transformations\n",
    "dataset = PennFudanDataset()\n",
    "dataset_test = PennFudanDataset()\n",
    "\n",
    "# split the dataset in train and test set\n",
    "torch.manual_seed(1)\n",
    "indices = torch.randperm(len(dataset)).tolist()\n",
    "dataset = torch.utils.data.Subset(dataset, indices[:-34])\n",
    "dataset_test = torch.utils.data.Subset(dataset_test, indices[-34:])\n",
    "\n",
    "# define training and validation data loaders\n",
    "data_loader = torch.utils.data.DataLoader(\n",
    "    dataset, batch_size=1, shuffle=True, num_workers=4,\n",
    "    collate_fn=utils.collate_fn)\n",
    "\n",
    "data_loader_test = torch.utils.data.DataLoader(dataset_test, batch_size=1,\n",
    "                                               shuffle = False, num_workers = 4,\n",
    "                                               collate_fn = utils.collate_fn)"
   ]
  },
  {
   "cell_type": "code",
   "execution_count": null,
   "id": "450054a9",
   "metadata": {
    "colab": {
     "base_uri": "https://localhost:8080/"
    },
    "collapsed": false,
    "deletable": true,
    "editable": true,
    "executionInfo": {
     "elapsed": 1152,
     "status": "ok",
     "timestamp": 1625253140015,
     "user": {
      "displayName": "SAMUEL HERICLES SOUZA SILVEIRA UFC",
      "photoUrl": "",
      "userId": "12708602358479385648"
     },
     "user_tz": 180
    },
    "id": "8c1d0408",
    "outputId": "8c7889a7-bed9-4ec6-d261-4bcbf9a7714e"
   },
   "outputs": [
    {
     "name": "stdout",
     "output_type": "stream",
     "text": [
      "84\n"
     ]
    }
   ],
   "source": [
    "device = torch.device('cuda') if torch.cuda.is_available() else torch.device('cpu')\n",
    "\n",
    "# our dataset has two classes only - background and person\n",
    "num_classes = 2\n",
    "\n",
    "# get the model using our helper function\n",
    "model = get_instance_segmentation_model(num_classes)\n",
    "\n",
    "# move model to the right device\n",
    "model.to(device)\n",
    "\n",
    "# construct an optimizer\n",
    "params = [p for p in model.parameters() if p.requires_grad]\n",
    "print(len(params))\n",
    "optimizer = torch.optim.SGD(params, lr=0.005,\n",
    "                            momentum=0.9, weight_decay=0.0005)\n",
    "\n",
    "# and a learning rate scheduler which decreases the learning rate by\n",
    "# 10x every 3 epochs\n",
    "lr_scheduler = torch.optim.lr_scheduler.StepLR(optimizer,\n",
    "                                               step_size=3,\n",
    "                                               gamma=0.1)"
   ]
  },
  {
   "cell_type": "code",
   "execution_count": null,
   "id": "dac9430c",
   "metadata": {
    "colab": {
     "base_uri": "https://localhost:8080/",
     "height": 343
    },
    "collapsed": false,
    "deletable": true,
    "editable": true,
    "executionInfo": {
     "elapsed": 1494,
     "status": "error",
     "timestamp": 1625251935825,
     "user": {
      "displayName": "SAMUEL HERICLES SOUZA SILVEIRA UFC",
      "photoUrl": "",
      "userId": "12708602358479385648"
     },
     "user_tz": 180
    },
    "id": "5d34731b",
    "outputId": "4dda00ac-9c8a-4b7b-dc61-6903486f0c1e"
   },
   "outputs": [
    {
     "name": "stderr",
     "output_type": "stream",
     "text": [
      "/usr/local/lib/python3.7/dist-packages/torch/utils/data/dataloader.py:481: UserWarning: This DataLoader will create 4 worker processes in total. Our suggested max number of worker in current system is 2, which is smaller than what this DataLoader is going to create. Please be aware that excessive worker creation might get DataLoader running slow or even freeze, lower the worker number to avoid potential slowness/freeze if necessary.\n",
      "  cpuset_checked))\n"
     ]
    },
    {
     "ename": "AttributeError",
     "evalue": "ignored",
     "output_type": "error",
     "traceback": [
      "\u001b[0;31m---------------------------------------------------------------------------\u001b[0m",
      "\u001b[0;31mAttributeError\u001b[0m                            Traceback (most recent call last)",
      "\u001b[0;32m<ipython-input-335-bf5f390b3ea8>\u001b[0m in \u001b[0;36m<module>\u001b[0;34m()\u001b[0m\n\u001b[1;32m      6\u001b[0m     train_one_epoch(model, optimizer, \n\u001b[1;32m      7\u001b[0m                     \u001b[0mdata_loader\u001b[0m\u001b[0;34m,\u001b[0m \u001b[0mdevice\u001b[0m\u001b[0;34m,\u001b[0m\u001b[0;34m\u001b[0m\u001b[0;34m\u001b[0m\u001b[0m\n\u001b[0;32m----> 8\u001b[0;31m                     epoch, print_freq = 10)\n\u001b[0m\u001b[1;32m      9\u001b[0m \u001b[0;34m\u001b[0m\u001b[0m\n\u001b[1;32m     10\u001b[0m     \u001b[0;31m# update the learning rate\u001b[0m\u001b[0;34m\u001b[0m\u001b[0;34m\u001b[0m\u001b[0;34m\u001b[0m\u001b[0m\n",
      "\u001b[0;32m/content/drive/My Drive/WheresWally/engine.py\u001b[0m in \u001b[0;36mtrain_one_epoch\u001b[0;34m(model, optimizer, data_loader, device, epoch, print_freq)\u001b[0m\n",
      "\u001b[0;32m/content/drive/My Drive/WheresWally/engine.py\u001b[0m in \u001b[0;36m<genexpr>\u001b[0;34m(.0)\u001b[0m\n",
      "\u001b[0;31mAttributeError\u001b[0m: 'Image' object has no attribute 'to'"
     ]
    }
   ],
   "source": [
    "# let's train it for 10 epochs\n",
    "num_epochs = 2\n",
    "\n",
    "for epoch in range(num_epochs):\n",
    "    # train for one epoch, printing every 10 iterations\n",
    "    train_one_epoch(model, optimizer, \n",
    "                    data_loader, device, \n",
    "                    epoch, print_freq = 10)\n",
    "\n",
    "    # update the learning rate\n",
    "    lr_scheduler.step()\n",
    "    \n",
    "    # evaluate on the test dataset\n",
    "    evaluate(model, data_loader_test, device=device)"
   ]
  },
  {
   "cell_type": "code",
   "execution_count": null,
   "id": "c651f144",
   "metadata": {
    "collapsed": true,
    "deletable": true,
    "editable": true,
    "id": "4441dc9d"
   },
   "outputs": [],
   "source": []
  },
  {
   "cell_type": "code",
   "execution_count": 90,
   "id": "cf1ba3d8",
   "metadata": {
    "colab": {
     "base_uri": "https://localhost:8080/"
    },
    "collapsed": false,
    "deletable": true,
    "editable": true,
    "executionInfo": {
     "elapsed": 496,
     "status": "ok",
     "timestamp": 1625317106932,
     "user": {
      "displayName": "SAMUEL HERICLES SOUZA SILVEIRA UFC",
      "photoUrl": "",
      "userId": "12708602358479385648"
     },
     "user_tz": 180
    },
    "id": "WYJ166bDnLBz",
    "outputId": "691c1c54-7e69-4db6-e2ea-338bee78b7e2"
   },
   "outputs": [
    {
     "name": "stdout",
     "output_type": "stream",
     "text": [
      "fatal: destination path 'vision' already exists and is not an empty directory.\n",
      "HEAD is now at be376084 version check against PyTorch's CUDA version\n"
     ]
    },
    {
     "data": {
      "text/plain": []
     },
     "execution_count": 90,
     "metadata": {
      "tags": []
     },
     "output_type": "execute_result"
    }
   ],
   "source": [
    "%%shell\n",
    "\n",
    "# Download TorchVision repo to use some files from\n",
    "# references/detection\n",
    "git clone https://github.com/pytorch/vision.git\n",
    "cd vision\n",
    "git checkout v0.3.0\n",
    "\n",
    "cp references/detection/utils.py /content/drive/MyDrive/WheresWally/src/\n",
    "cp references/detection/transforms.py /content/drive/MyDrive/WheresWally/src/\n",
    "cp references/detection/coco_eval.py /content/drive/MyDrive/WheresWally/src/\n",
    "cp references/detection/engine.py /content/drive/MyDrive/WheresWally/src/\n",
    "cp references/detection/coco_utils.py /content/drive/MyDrive/WheresWally/src/"
   ]
  }
 ],
 "metadata": {
  "colab": {
   "collapsed_sections": [],
   "name": "TEST.ipynb",
   "provenance": []
  },
  "kernelspec": {
   "display_name": "Python 3",
   "language": "python",
   "name": "python3"
  },
  "language_info": {
   "codemirror_mode": {
    "name": "ipython",
    "version": 3
   },
   "file_extension": ".py",
   "mimetype": "text/x-python",
   "name": "python",
   "nbconvert_exporter": "python",
   "pygments_lexer": "ipython3",
   "version": "3.6.5"
  }
 },
 "nbformat": 4,
 "nbformat_minor": 5
}
