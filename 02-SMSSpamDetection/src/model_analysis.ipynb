{
 "cells": [
  {
   "cell_type": "code",
   "execution_count": 1,
   "id": "468a582a",
   "metadata": {
    "collapsed": true
   },
   "outputs": [],
   "source": [
    "def verify_list_mensages(dataframe):\n",
    "    \"\"\"\n",
    "        This function is to get probabilities if spam your boolean value\n",
    "        \n",
    "        @param dataframe - Series dataframe for extract mensages\n",
    "        \n",
    "        @return ifs_spam - boolean values if spam ou not\n",
    "        @return probs_spam - probabilities if spam or not\n",
    "    \"\"\"\n",
    "    \n",
    "    ifs_spam = []\n",
    "    probs_spam = []\n",
    "    \n",
    "    for mensage in dataframe:\n",
    "        ifs_spam.append(spam_detect.is_spam(mensage))\n",
    "        probs_spam.append(spam_detect.prob_spam(mensage))\n",
    "    \n",
    "    return ifs_spam, probs_spam"
   ]
  },
  {
   "cell_type": "markdown",
   "id": "cf48cba7",
   "metadata": {},
   "source": [
    "<div style='border-top:5px solid green;'></div>"
   ]
  },
  {
   "cell_type": "markdown",
   "id": "e375d866",
   "metadata": {
    "deletable": true,
    "editable": true
   },
   "source": [
    "# 0. Install packages needed\n",
    "\n",
    "If wont run pip install before you cant execute cell bellow."
   ]
  },
  {
   "cell_type": "code",
   "execution_count": 2,
   "id": "99c8c56d",
   "metadata": {
    "collapsed": false,
    "deletable": true,
    "editable": true,
    "scrolled": true
   },
   "outputs": [],
   "source": [
    "# !pip install -r ../requeriments.txt"
   ]
  },
  {
   "cell_type": "markdown",
   "id": "084fa3f3",
   "metadata": {},
   "source": [
    "<div style='border-top:5px solid green;'></div>"
   ]
  },
  {
   "cell_type": "markdown",
   "id": "a8343587",
   "metadata": {
    "deletable": true,
    "editable": true
   },
   "source": [
    "# 1. Imports needed\n",
    "\n",
    "In this section you can see just the libary need for this notebook."
   ]
  },
  {
   "cell_type": "code",
   "execution_count": 3,
   "id": "af4f0d4c",
   "metadata": {
    "collapsed": false,
    "deletable": true,
    "editable": true
   },
   "outputs": [],
   "source": [
    "import pickle                                           # Upload model pre-trained\n",
    "import warnings                                         # Ignores warnings\n",
    "\n",
    "import pandas as pd                                     # Upload datasets\n",
    "import numpy as np                                      # For calculate and transform datasets\n",
    "import seaborn as sns                                   # Visualize results in graph more complex\n",
    "import matplotlib.pyplot as plt                         # Visualize results in graph\n",
    "\n",
    "from sklearn.metrics import confusion_matrix            # Get model cmfs\n",
    "from sklearn.metrics import accuracy_score              # Get model accuracy's\n",
    "from sklearn.metrics import classification_report       # Get better model repors\n",
    "\n",
    "from classes.SpamDetector import SpamDetector           # Classed proposed by challenge\n",
    "\n",
    "# Ignore warnings\n",
    "warnings.filterwarnings(\"ignore\")"
   ]
  },
  {
   "cell_type": "markdown",
   "id": "87555634",
   "metadata": {},
   "source": [
    "<div style='border-top:5px solid green;'></div>"
   ]
  },
  {
   "cell_type": "markdown",
   "id": "e8deba06",
   "metadata": {
    "deletable": true,
    "editable": true
   },
   "source": [
    "#  2. Uploads\n",
    "\n",
    "This dataset were provided for the challenge, in this section have just visualize the shape and first lines."
   ]
  },
  {
   "cell_type": "code",
   "execution_count": 4,
   "id": "09abad49",
   "metadata": {
    "collapsed": false,
    "deletable": true,
    "editable": true
   },
   "outputs": [
    {
     "name": "stdout",
     "output_type": "stream",
     "text": [
      "==================================================\n",
      " Train dataset 3780 samples and 2 columns\n"
     ]
    },
    {
     "data": {
      "text/html": [
       "<div>\n",
       "<style scoped>\n",
       "    .dataframe tbody tr th:only-of-type {\n",
       "        vertical-align: middle;\n",
       "    }\n",
       "\n",
       "    .dataframe tbody tr th {\n",
       "        vertical-align: top;\n",
       "    }\n",
       "\n",
       "    .dataframe thead th {\n",
       "        text-align: right;\n",
       "    }\n",
       "</style>\n",
       "<table border=\"1\" class=\"dataframe\">\n",
       "  <thead>\n",
       "    <tr style=\"text-align: right;\">\n",
       "      <th></th>\n",
       "      <th>type</th>\n",
       "      <th>mensage</th>\n",
       "    </tr>\n",
       "  </thead>\n",
       "  <tbody>\n",
       "    <tr>\n",
       "      <th>0</th>\n",
       "      <td>ham</td>\n",
       "      <td>Webpage s not available!</td>\n",
       "    </tr>\n",
       "    <tr>\n",
       "      <th>1</th>\n",
       "      <td>ham</td>\n",
       "      <td>Sorry about that this is my mates phone and i ...</td>\n",
       "    </tr>\n",
       "    <tr>\n",
       "      <th>2</th>\n",
       "      <td>ham</td>\n",
       "      <td>Good night my dear.. Sleepwell&amp;amp;Take care</td>\n",
       "    </tr>\n",
       "    <tr>\n",
       "      <th>3</th>\n",
       "      <td>spam</td>\n",
       "      <td>Sunshine Hols. To claim ur med holiday send a ...</td>\n",
       "    </tr>\n",
       "    <tr>\n",
       "      <th>4</th>\n",
       "      <td>ham</td>\n",
       "      <td>If you're thinking of lifting me one then no.</td>\n",
       "    </tr>\n",
       "  </tbody>\n",
       "</table>\n",
       "</div>"
      ],
      "text/plain": [
       "   type                                            mensage\n",
       "0   ham                           Webpage s not available!\n",
       "1   ham  Sorry about that this is my mates phone and i ...\n",
       "2   ham       Good night my dear.. Sleepwell&amp;Take care\n",
       "3  spam  Sunshine Hols. To claim ur med holiday send a ...\n",
       "4   ham      If you're thinking of lifting me one then no."
      ]
     },
     "metadata": {},
     "output_type": "display_data"
    },
    {
     "name": "stdout",
     "output_type": "stream",
     "text": [
      "==================================================\n",
      " Vaidation dataset 945 samples and 2 columns\n"
     ]
    },
    {
     "data": {
      "text/html": [
       "<div>\n",
       "<style scoped>\n",
       "    .dataframe tbody tr th:only-of-type {\n",
       "        vertical-align: middle;\n",
       "    }\n",
       "\n",
       "    .dataframe tbody tr th {\n",
       "        vertical-align: top;\n",
       "    }\n",
       "\n",
       "    .dataframe thead th {\n",
       "        text-align: right;\n",
       "    }\n",
       "</style>\n",
       "<table border=\"1\" class=\"dataframe\">\n",
       "  <thead>\n",
       "    <tr style=\"text-align: right;\">\n",
       "      <th></th>\n",
       "      <th>type</th>\n",
       "      <th>mensage</th>\n",
       "    </tr>\n",
       "  </thead>\n",
       "  <tbody>\n",
       "    <tr>\n",
       "      <th>0</th>\n",
       "      <td>ham</td>\n",
       "      <td>How do friends help us in problems? They give ...</td>\n",
       "    </tr>\n",
       "    <tr>\n",
       "      <th>1</th>\n",
       "      <td>spam</td>\n",
       "      <td>SIX chances to win CASH! From 100 to 20,000 po...</td>\n",
       "    </tr>\n",
       "    <tr>\n",
       "      <th>2</th>\n",
       "      <td>spam</td>\n",
       "      <td>Free entry in 2 a weekly comp for a chance to ...</td>\n",
       "    </tr>\n",
       "    <tr>\n",
       "      <th>3</th>\n",
       "      <td>ham</td>\n",
       "      <td>We can make a baby in yo tho</td>\n",
       "    </tr>\n",
       "    <tr>\n",
       "      <th>4</th>\n",
       "      <td>ham</td>\n",
       "      <td>Just haven't decided where yet eh ?</td>\n",
       "    </tr>\n",
       "  </tbody>\n",
       "</table>\n",
       "</div>"
      ],
      "text/plain": [
       "   type                                            mensage\n",
       "0   ham  How do friends help us in problems? They give ...\n",
       "1  spam  SIX chances to win CASH! From 100 to 20,000 po...\n",
       "2  spam  Free entry in 2 a weekly comp for a chance to ...\n",
       "3   ham                       We can make a baby in yo tho\n",
       "4   ham                Just haven't decided where yet eh ?"
      ]
     },
     "metadata": {},
     "output_type": "display_data"
    },
    {
     "name": "stdout",
     "output_type": "stream",
     "text": [
      "==================================================\n",
      " Test dataset 847 samples and 1 columns \n",
      "\n"
     ]
    },
    {
     "data": {
      "text/html": [
       "<div>\n",
       "<style scoped>\n",
       "    .dataframe tbody tr th:only-of-type {\n",
       "        vertical-align: middle;\n",
       "    }\n",
       "\n",
       "    .dataframe tbody tr th {\n",
       "        vertical-align: top;\n",
       "    }\n",
       "\n",
       "    .dataframe thead th {\n",
       "        text-align: right;\n",
       "    }\n",
       "</style>\n",
       "<table border=\"1\" class=\"dataframe\">\n",
       "  <thead>\n",
       "    <tr style=\"text-align: right;\">\n",
       "      <th></th>\n",
       "      <th>mensage</th>\n",
       "    </tr>\n",
       "  </thead>\n",
       "  <tbody>\n",
       "    <tr>\n",
       "      <th>0</th>\n",
       "      <td>I know that my friend already told that.</td>\n",
       "    </tr>\n",
       "    <tr>\n",
       "      <th>1</th>\n",
       "      <td>It took Mr owl 3 licks</td>\n",
       "    </tr>\n",
       "    <tr>\n",
       "      <th>2</th>\n",
       "      <td>Dunno y u ask me.</td>\n",
       "    </tr>\n",
       "    <tr>\n",
       "      <th>3</th>\n",
       "      <td>K.k:)advance happy pongal.</td>\n",
       "    </tr>\n",
       "    <tr>\n",
       "      <th>4</th>\n",
       "      <td>I know but you need to get hotel now. I just g...</td>\n",
       "    </tr>\n",
       "  </tbody>\n",
       "</table>\n",
       "</div>"
      ],
      "text/plain": [
       "                                             mensage\n",
       "0           I know that my friend already told that.\n",
       "1                             It took Mr owl 3 licks\n",
       "2                                  Dunno y u ask me.\n",
       "3                         K.k:)advance happy pongal.\n",
       "4  I know but you need to get hotel now. I just g..."
      ]
     },
     "metadata": {},
     "output_type": "display_data"
    }
   ],
   "source": [
    "# 2.1 Upload pre-trained model\n",
    "sms_model = pickle.load(open(\"../model/sms_model_v1.pkl\", \"rb\"))\n",
    "\n",
    "# 2.2 Uploads datasets\n",
    "\n",
    "# 2.3.1 Train\n",
    "df_train = pd.read_csv('../data/TrainingSet/sms-hamspam-train.csv',  sep=\"\\t\", names=['type','mensage'])\n",
    "print('='*50 + f'\\n Train dataset {df_train.shape[0]} samples and {df_train.shape[1]} columns')\n",
    "display(df_train.head())\n",
    "\n",
    "# 2.3.2 Validation\n",
    "df_val = pd.read_csv('../data/TrainingSet/sms-hamspam-val.csv',  sep=\"\\t\", names=['type','mensage'])\n",
    "print('='*50 + f'\\n Vaidation dataset {df_val.shape[0]} samples and {df_val.shape[1]} columns')\n",
    "display(df_val.head())\n",
    "\n",
    "#2.3.3 Test\n",
    "df_test = pd.read_csv('../data/TestSet/sms-hamspam-test.csv',  sep=\"\\t\", names=['mensage'])\n",
    "print('='*50 + f'\\n Test dataset {df_test.shape[0]} samples and {df_test.shape[1]} columns \\n')\n",
    "display(df_test.head())"
   ]
  },
  {
   "cell_type": "markdown",
   "id": "2a8a2310",
   "metadata": {
    "deletable": true,
    "editable": true
   },
   "source": [
    "We can see that the test dataset doesn't have type message columns, so we analyze the pre-trained if he good."
   ]
  },
  {
   "cell_type": "markdown",
   "id": "631683f0",
   "metadata": {},
   "source": [
    "<div style='border-top:5px solid green;'></div>"
   ]
  },
  {
   "cell_type": "markdown",
   "id": "bd4a7cd9",
   "metadata": {
    "deletable": true,
    "editable": true
   },
   "source": [
    "# 4. Model Analysis\n",
    "\n",
    "First we see the model archtecture"
   ]
  },
  {
   "cell_type": "code",
   "execution_count": 5,
   "id": "2a8e58d0",
   "metadata": {
    "collapsed": false,
    "deletable": true,
    "editable": true
   },
   "outputs": [
    {
     "data": {
      "text/plain": [
       "Pipeline(steps=[('transformer',\n",
       "                 TfidfVectorizer(stop_words=['i', 'me', 'my', 'myself', 'we',\n",
       "                                             'our', 'ours', 'ourselves', 'you',\n",
       "                                             \"you're\", \"you've\", \"you'll\",\n",
       "                                             \"you'd\", 'your', 'yours',\n",
       "                                             'yourself', 'yourselves', 'he',\n",
       "                                             'him', 'his', 'himself', 'she',\n",
       "                                             \"she's\", 'her', 'hers', 'herself',\n",
       "                                             'it', \"it's\", 'its', 'itself', ...])),\n",
       "                ('rf', RandomForestClassifier())])"
      ]
     },
     "execution_count": 5,
     "metadata": {},
     "output_type": "execute_result"
    }
   ],
   "source": [
    "sms_model"
   ]
  },
  {
   "cell_type": "markdown",
   "id": "d4a8254c",
   "metadata": {
    "deletable": true,
    "editable": true
   },
   "source": [
    "Doesn't have just a model but a tokenization and vectorization pipeline."
   ]
  },
  {
   "cell_type": "code",
   "execution_count": 6,
   "id": "a84b4652",
   "metadata": {
    "collapsed": false,
    "deletable": true,
    "editable": true
   },
   "outputs": [
    {
     "data": {
      "text/plain": [
       "<classes.SpamDetector.SpamDetector at 0x1a4cad68e80>"
      ]
     },
     "execution_count": 6,
     "metadata": {},
     "output_type": "execute_result"
    }
   ],
   "source": [
    "# Instantiate SpamDetector class\n",
    "spam_detect = SpamDetector(sms_model)\n",
    "spam_detect"
   ]
  },
  {
   "cell_type": "markdown",
   "id": "fcb6178d",
   "metadata": {},
   "source": [
    "The object class has instatiate!"
   ]
  },
  {
   "cell_type": "markdown",
   "id": "6e3cbcc6",
   "metadata": {},
   "source": [
    "# 4.1 Metrics Results"
   ]
  },
  {
   "cell_type": "code",
   "execution_count": 7,
   "id": "265a1d37",
   "metadata": {
    "collapsed": false
   },
   "outputs": [],
   "source": [
    "# Get boolean and probabilities values each mensangem in dataframe\n",
    "ifs_spam, probs_spam =  verify_list_mensages(df_val['mensage'])\n",
    "\n",
    "# Map for counts number of ham and spam\n",
    "qt_ham, qt_spam = pd.DataFrame(list(map(int,ifs_spam))).value_counts().values\n",
    "\n",
    "# Get predict values and true values\n",
    "y_pred = list(map(lambda x: 'spam' if x == 1 else 'ham', ifs_spam))\n",
    "y_true = df_val['type'].values"
   ]
  },
  {
   "cell_type": "markdown",
   "id": "ef0f1ba7",
   "metadata": {},
   "source": [
    "# 4.1.2 Plot confusion matrix and classsification report"
   ]
  },
  {
   "cell_type": "code",
   "execution_count": 8,
   "id": "105c7601",
   "metadata": {
    "collapsed": false,
    "deletable": true,
    "editable": true
   },
   "outputs": [
    {
     "data": {
      "image/png": "[encoded data removed]",
      "text/plain": [
       "<Figure size 432x288 with 2 Axes>"
      ]
     },
     "metadata": {
      "needs_background": "light"
     },
     "output_type": "display_data"
    },
    {
     "name": "stdout",
     "output_type": "stream",
     "text": [
      "              precision    recall  f1-score   support\n",
      "\n",
      "         Ham       0.99      0.99      0.99       811\n",
      "        Spam       0.96      0.96      0.96       134\n",
      "\n",
      "    accuracy                           0.99       945\n",
      "   macro avg       0.98      0.98      0.98       945\n",
      "weighted avg       0.99      0.99      0.99       945\n",
      "\n"
     ]
    }
   ],
   "source": [
    "# Get array of confusion matrixx\n",
    "cmf_matrix = confusion_matrix(y_pred,y_true)\n",
    "\n",
    "# Fllaten confusion matrix results and percentagens\n",
    "group_counts = [\"{0:0.0f}\".format(value) for value in cmf_matrix.flatten()]\n",
    "group_percentages = [\"{0:.2%}\".format(value) for value in cmf_matrix.flatten()/np.sum(cmf_matrix)]\n",
    "\n",
    "# Reshape to 2x2 and add title to plot\n",
    "labels = [f\"{Nome}\\n\\n {v1}\\n{v2}\" for Nome, v1, v2 in zip(['TP','FP','FN','TN'], group_counts, group_percentages)]\n",
    "labels = np.array(labels).reshape(2,2)\n",
    "\n",
    "# Plot the heatmap and subptitle\n",
    "plt.title('Model confusion matrix')\n",
    "sns.heatmap(cmf_matrix,annot=labels,fmt='', cmap='Blues')\n",
    "plt.axis('off')\n",
    "plt.show()\n",
    "\n",
    "# Print accuracy, recall, and precision about this spam model\n",
    "print(classification_report(y_true, y_pred, target_names=['Ham', 'Spam']))"
   ]
  },
  {
   "cell_type": "markdown",
   "id": "9f7a0ca6",
   "metadata": {},
   "source": [
    "This model has good metrics, because just not accuracy is high, and recall and precision are very close. The importance of recall and precision are close is the fact model not biased for a specific class, for example, if the model has 90% recall and 80% precision then classify more ham messages with spam, it's mean more false alarms.\n"
   ]
  },
  {
   "cell_type": "markdown",
   "id": "db66c073",
   "metadata": {},
   "source": [
    "# 4.1.3 Plot model probabilities"
   ]
  },
  {
   "cell_type": "code",
   "execution_count": 9,
   "id": "ccf9bffd",
   "metadata": {
    "collapsed": false
   },
   "outputs": [
    {
     "data": {
      "image/png": "[encoded data removed]",
      "text/plain": [
       "<Figure size 864x432 with 1 Axes>"
      ]
     },
     "metadata": {
      "needs_background": "light"
     },
     "output_type": "display_data"
    }
   ],
   "source": [
    "# Get probabilities in array that contain [prob if ham, prob if spam]\n",
    "probs_model = list(map(lambda x: list(x), sms_model.predict_proba(df_val['mensage'].values)))\n",
    "\n",
    "# Divide in two columns value for atribute each one in variable\n",
    "df_temp = pd.DataFrame(probs_model, columns=['ham','spam'])\n",
    "ham_probs = df_temp['ham']\n",
    "spam_probs = df_temp['spam']\n",
    "\n",
    "# Plot results\n",
    "fig, ax = plt.subplots(1, figsize=(12,6))\n",
    "\n",
    "ax.set_xlim(0)\n",
    "ax.set_title(\"Spam model probabilities\", fontsize = 16)\n",
    "ax.set_xlabel(\"Probability\", fontsize = 12)\n",
    "ax.set_ylabel(\"Density\", fontsize = 12)\n",
    "\n",
    "sns.distplot(ham_probs.values,\n",
    "             hist = False,\n",
    "             kde  = True,\n",
    "             label = 'Ham',\n",
    "             kde_kws = {'shade': True, 'linewidth': 3}, ax = ax)\n",
    "\n",
    "sns.distplot(spam_probs.values,\n",
    "             hist = False,\n",
    "             kde  = True,\n",
    "             label = 'Spam',\n",
    "             kde_kws = {'shade': True, 'linewidth': 3}, ax = ax)\n",
    "\n",
    "plt.legend(loc = 'best')\n",
    "plt.show()"
   ]
  },
  {
   "cell_type": "markdown",
   "id": "f039cb32",
   "metadata": {},
   "source": [
    "This graph shows that the model has very sure in the classification, in the x-axis is a probability for a sample and the density probabilities. When both curves are close to zero or one means that a good model, because the model has sure in your prediction."
   ]
  },
  {
   "cell_type": "markdown",
   "id": "945d6fb0",
   "metadata": {},
   "source": [
    "# 4.1.4 Plot outputs model"
   ]
  },
  {
   "cell_type": "code",
   "execution_count": 10,
   "id": "bf33d5da",
   "metadata": {
    "collapsed": false,
    "scrolled": false
   },
   "outputs": [
    {
     "data": {
      "image/png": "[encoded data removed]",
      "text/plain": [
       "<Figure size 432x288 with 1 Axes>"
      ]
     },
     "metadata": {
      "needs_background": "light"
     },
     "output_type": "display_data"
    }
   ],
   "source": [
    "plt.title(f'Ham/Spam model Classified - Accuracy')\n",
    "plt.bar(1, height = qt_ham, width=1, label='Ham')\n",
    "plt.bar(0, height = qt_spam, width=1, label='Spam')\n",
    "\n",
    "plt.text(1, qt_ham+2, str(qt_ham), color='black')\n",
    "plt.text(0, qt_spam+2, str(qt_spam), color='black')\n",
    "\n",
    "plt.ylim(top =qt_ham+500)\n",
    "\n",
    "plt.xticks([])\n",
    "plt.legend(loc='best')\n",
    "plt.show()"
   ]
  },
  {
   "cell_type": "markdown",
   "id": "653c1e23",
   "metadata": {},
   "source": [
    "This graph show the quantity of ham and spam mensage, indeed in test dataset have more ham then spam mensages."
   ]
  },
  {
   "cell_type": "markdown",
   "id": "4a4a82ae",
   "metadata": {},
   "source": [
    "<div style='border-top:5px solid green;'></div>"
   ]
  },
  {
   "cell_type": "markdown",
   "id": "6eea8e92",
   "metadata": {},
   "source": [
    "# 5. Model outputs from test dataset and your probabilities"
   ]
  },
  {
   "cell_type": "code",
   "execution_count": 11,
   "id": "57d62065",
   "metadata": {
    "collapsed": true
   },
   "outputs": [],
   "source": [
    "# Get boolean and probabilities values each mensangem in dataframe\n",
    "ifs_spam, probs_spam =  verify_list_mensages(df_test['mensage'])\n",
    "qt_ham, qt_spam = pd.DataFrame(list(map(int,ifs_spam))).value_counts().values\n",
    "\n",
    "# Map for counts number of ham and spam\n",
    "y_pred = list(map(lambda x: 'spam' if x == 1 else 'ham', ifs_spam))\n",
    "y_true = df_val['type'].values"
   ]
  },
  {
   "cell_type": "code",
   "execution_count": 12,
   "id": "8d3d35de",
   "metadata": {
    "collapsed": true
   },
   "outputs": [],
   "source": [
    "# Get probabilities in array that contain [prob if ham, prob if spam]\n",
    "probs_model = list(map(lambda x: list(x), sms_model.predict_proba(df_test['mensage'].values)))\n",
    "\n",
    "# Divide in two columns value for atribute each one in variable\n",
    "df_temp = pd.DataFrame(probs_model, columns=['ham','spam'])\n",
    "ham_probs = df_temp['ham']\n",
    "spam_probs = df_temp['spam']"
   ]
  },
  {
   "cell_type": "code",
   "execution_count": 13,
   "id": "8e12510c",
   "metadata": {
    "collapsed": false
   },
   "outputs": [
    {
     "data": {
      "image/png": "[encoded data removed]",
      "text/plain": [
       "<Figure size 1152x432 with 2 Axes>"
      ]
     },
     "metadata": {
      "needs_background": "light"
     },
     "output_type": "display_data"
    }
   ],
   "source": [
    "fig, (ax1, ax2) = plt.subplots(1, 2,figsize=(16,6))\n",
    "\n",
    "ax1.set_title(f'Ham/Spam model Classified - Accuracy')\n",
    "ax1.bar(1, height = qt_ham, width=1, label='Ham')\n",
    "ax1.bar(0, height = qt_spam, width=1, label='Spam')\n",
    "\n",
    "\n",
    "ax1.text(1, qt_ham+2, str(qt_ham), color='black')\n",
    "ax1.text(0, qt_spam+2, str(qt_spam), color='black')\n",
    "\n",
    "ax1.axis(ymax =qt_ham+500)\n",
    "\n",
    "ax1.set_xticks([])\n",
    "ax1.legend(loc='best')\n",
    "\n",
    "ax2.set_xlim(0)\n",
    "ax2.set_title(\"Spam model probabilities\", fontsize = 16)\n",
    "ax2.set_xlabel(\"Probability\", fontsize = 12)\n",
    "ax2.set_ylabel(\"Quantity Outputs\", fontsize = 12)\n",
    "\n",
    "fig.add_subplot(sns.distplot(ham_probs.values,\n",
    "             hist = False,\n",
    "             kde  = True,\n",
    "             label = 'Ham',\n",
    "             kde_kws = {'shade': True, 'linewidth': 3}, ax = ax2))\n",
    "\n",
    "fig.add_subplot(sns.distplot(spam_probs.values,\n",
    "             hist = False,\n",
    "             kde  = True,\n",
    "             label = 'Spam',\n",
    "             kde_kws = {'shade': True, 'linewidth': 3}, ax = ax2))\n",
    "\n",
    "ax2.legend(loc = 'best')\n",
    "plt.show()"
   ]
  },
  {
   "cell_type": "markdown",
   "id": "b74c27ae",
   "metadata": {
    "collapsed": false,
    "deletable": true,
    "editable": true
   },
   "source": [
    "Even though I don't have the actual labels of each message, according to the analysis done in the previous session, I believe that the model correctly classified the messages in the given test dataset."
   ]
  },
  {
   "cell_type": "markdown",
   "id": "3bae9942",
   "metadata": {
    "collapsed": true,
    "deletable": true,
    "editable": true
   },
   "source": [
    "<div style='color:red;'>**Conclusion**: The model is very good, and doesn't need sample preprocessing!</div>"
   ]
  }
 ],
 "metadata": {
  "interpreter": {
   "hash": "ac59ebe37160ed0dfa835113d9b8498d9f09ceb179beaac4002f036b9467c963"
  },
  "kernelspec": {
   "display_name": "Python 3",
   "language": "python",
   "name": "python3"
  },
  "language_info": {
   "codemirror_mode": {
    "name": "ipython",
    "version": 3
   },
   "file_extension": ".py",
   "mimetype": "text/x-python",
   "name": "python",
   "nbconvert_exporter": "python",
   "pygments_lexer": "ipython3",
   "version": "3.6.5"
  }
 },
 "nbformat": 4,
 "nbformat_minor": 5
}
